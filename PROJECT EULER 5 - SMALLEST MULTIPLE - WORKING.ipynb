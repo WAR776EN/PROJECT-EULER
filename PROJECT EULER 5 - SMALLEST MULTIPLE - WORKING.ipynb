{
 "cells": [
  {
   "cell_type": "code",
   "execution_count": 2,
   "metadata": {},
   "outputs": [
    {
     "name": "stdout",
     "output_type": "stream",
     "text": [
      "[1, 2, 3, 5, 7]\n",
      "[4, 6, 8, 9, 10]\n",
      "210\n"
     ]
    },
    {
     "data": {
      "text/plain": [
       "[6, 10]"
      ]
     },
     "execution_count": 2,
     "metadata": {},
     "output_type": "execute_result"
    }
   ],
   "source": [
    "def isprime(x):\n",
    "# Checking a prime number\n",
    "    for i in range(2,x):\n",
    "        #print('checking '+str(i))\n",
    "        if x%i == 0:\n",
    "            return False\n",
    "    else:\n",
    "        return True\n",
    "    \n",
    "prime = 1\n",
    "a = [1,2,3,4,5,6,7,8,9,10] \n",
    "prime_list = [ x for x in a if isprime(x) == True]\n",
    "for i in prime_list:\n",
    "    a.remove(i)\n",
    "    prime *= i\n",
    "\n",
    "cek1 = [x for x in a if prime%x ==0]\n",
    "print(prime_list)\n",
    "print(a)\n",
    "print(prime)\n",
    "cek1"
   ]
  },
  {
   "cell_type": "code",
   "execution_count": 5,
   "metadata": {},
   "outputs": [
    {
     "data": {
      "text/plain": [
       "15120"
      ]
     },
     "execution_count": 5,
     "metadata": {},
     "output_type": "execute_result"
    }
   ],
   "source": [
    "new=[5,6,7,8,9]\n",
    "temp = 1\n",
    "for i in new:\n",
    "    temp *= i\n",
    "temp"
   ]
  },
  {
   "cell_type": "code",
   "execution_count": 20,
   "metadata": {},
   "outputs": [
    {
     "data": {
      "text/plain": [
       "315.0"
      ]
     },
     "execution_count": 20,
     "metadata": {},
     "output_type": "execute_result"
    }
   ],
   "source": [
    "2520/8"
   ]
  },
  {
   "cell_type": "code",
   "execution_count": null,
   "metadata": {},
   "outputs": [],
   "source": []
  }
 ],
 "metadata": {
  "kernelspec": {
   "display_name": "Python 3",
   "language": "python",
   "name": "python3"
  },
  "language_info": {
   "codemirror_mode": {
    "name": "ipython",
    "version": 3
   },
   "file_extension": ".py",
   "mimetype": "text/x-python",
   "name": "python",
   "nbconvert_exporter": "python",
   "pygments_lexer": "ipython3",
   "version": "3.7.0"
  }
 },
 "nbformat": 4,
 "nbformat_minor": 2
}
