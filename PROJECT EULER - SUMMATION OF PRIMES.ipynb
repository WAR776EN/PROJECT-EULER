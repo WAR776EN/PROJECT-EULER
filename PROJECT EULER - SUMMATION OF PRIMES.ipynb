{
 "cells": [
  {
   "cell_type": "code",
   "execution_count": 4,
   "metadata": {},
   "outputs": [],
   "source": [
    "def isprime(x):\n",
    "    \"\"\"\"Checking a prime number. Return True if x is a Prime number and otherwise\"\"\"\n",
    "    import math\n",
    "    if x==2:\n",
    "        return False\n",
    "    if x>2 and x%2==0:\n",
    "        return False\n",
    "    max_divisor = math.floor(math.sqrt(x))\n",
    "    for i in range(3,max_divisor+1,2):\n",
    "        if x%i == 0:\n",
    "            return False\n",
    "    else:\n",
    "        return True"
   ]
  },
  {
   "cell_type": "code",
   "execution_count": 5,
   "metadata": {},
   "outputs": [],
   "source": [
    "def sum_prime(x):\n",
    "    \"\"\" Sum all primes below the input\"\"\"\n",
    "    if x < 0:\n",
    "        return print('input must be positive integer')\n",
    "    if x in range(0,3):\n",
    "        return print('no primes below '+str(x))\n",
    "    if x==3:\n",
    "        return 2\n",
    "    if x > 3:\n",
    "        result = 2\n",
    "        for num in range(3,x+1,2):\n",
    "            if isprime(num):\n",
    "                result += num\n",
    "    return result"
   ]
  },
  {
   "cell_type": "code",
   "execution_count": 10,
   "metadata": {},
   "outputs": [
    {
     "data": {
      "text/plain": [
       "142913828922"
      ]
     },
     "execution_count": 10,
     "metadata": {},
     "output_type": "execute_result"
    }
   ],
   "source": [
    "sum_prime(2000000)"
   ]
  },
  {
   "cell_type": "code",
   "execution_count": null,
   "metadata": {},
   "outputs": [],
   "source": []
  }
 ],
 "metadata": {
  "kernelspec": {
   "display_name": "Python 3",
   "language": "python",
   "name": "python3"
  },
  "language_info": {
   "codemirror_mode": {
    "name": "ipython",
    "version": 3
   },
   "file_extension": ".py",
   "mimetype": "text/x-python",
   "name": "python",
   "nbconvert_exporter": "python",
   "pygments_lexer": "ipython3",
   "version": "3.6.9"
  }
 },
 "nbformat": 4,
 "nbformat_minor": 2
}
