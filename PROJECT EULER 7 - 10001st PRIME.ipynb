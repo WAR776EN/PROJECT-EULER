{
 "cells": [
  {
   "cell_type": "code",
   "execution_count": 21,
   "metadata": {},
   "outputs": [],
   "source": [
    "def isprime(x):\n",
    "    \"\"\"\"Checking a prime number. Return True if x is a Prime number and otherwise\"\"\"\n",
    "    import math\n",
    "    if x==2:\n",
    "        return False\n",
    "    if x>2 and x%2==0:\n",
    "        return False\n",
    "    max_divisor = math.floor(math.sqrt(x))\n",
    "    for i in range(3,max_divisor+1,2):\n",
    "        if x%i == 0:\n",
    "            return False\n",
    "    else:\n",
    "        return True\n",
    "\n",
    "\n",
    "def prime(x):\n",
    "    if x==1:\n",
    "        return 2\n",
    "    if x==2:\n",
    "        return 3\n",
    "    count = 2 #nth prime \n",
    "    cek = 3 #current number that is being checked\n",
    "    while count != x:\n",
    "        cek += 2\n",
    "        if isprime(cek):\n",
    "            count +=1\n",
    "    return cek"
   ]
  },
  {
   "cell_type": "code",
   "execution_count": 22,
   "metadata": {},
   "outputs": [
    {
     "data": {
      "text/plain": [
       "104743"
      ]
     },
     "execution_count": 22,
     "metadata": {},
     "output_type": "execute_result"
    }
   ],
   "source": [
    "prime(10001)"
   ]
  },
  {
   "cell_type": "code",
   "execution_count": null,
   "metadata": {},
   "outputs": [],
   "source": []
  },
  {
   "cell_type": "code",
   "execution_count": null,
   "metadata": {},
   "outputs": [],
   "source": []
  }
 ],
 "metadata": {
  "kernelspec": {
   "display_name": "Python 3",
   "language": "python",
   "name": "python3"
  },
  "language_info": {
   "codemirror_mode": {
    "name": "ipython",
    "version": 3
   },
   "file_extension": ".py",
   "mimetype": "text/x-python",
   "name": "python",
   "nbconvert_exporter": "python",
   "pygments_lexer": "ipython3",
   "version": "3.7.0"
  }
 },
 "nbformat": 4,
 "nbformat_minor": 2
}
