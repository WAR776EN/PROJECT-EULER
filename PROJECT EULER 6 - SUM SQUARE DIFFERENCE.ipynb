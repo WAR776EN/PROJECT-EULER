{
 "cells": [
  {
   "cell_type": "code",
   "execution_count": 1,
   "metadata": {},
   "outputs": [
    {
     "name": "stdout",
     "output_type": "stream",
     "text": [
      "25164150\n"
     ]
    }
   ],
   "source": [
    "def sumDiff(x):\n",
    "    \n",
    "    def powerSum (x):\n",
    "        sum = 0\n",
    "        for i in range(1,x+1):\n",
    "            sum += i\n",
    "        sum = sum**2\n",
    "        return sum\n",
    "    \n",
    "    def sumPower (x):\n",
    "        sum = 0\n",
    "        for i in range(1,x+1):\n",
    "            sum = sum + i**2\n",
    "        return sum\n",
    "    \n",
    "    diff = powerSum(x) - sumPower(x)\n",
    "    print(diff)\n",
    "    \n",
    "sumDiff(100)"
   ]
  },
  {
   "cell_type": "code",
   "execution_count": null,
   "metadata": {},
   "outputs": [],
   "source": []
  }
 ],
 "metadata": {
  "kernelspec": {
   "display_name": "Python 3",
   "language": "python",
   "name": "python3"
  },
  "language_info": {
   "codemirror_mode": {
    "name": "ipython",
    "version": 3
   },
   "file_extension": ".py",
   "mimetype": "text/x-python",
   "name": "python",
   "nbconvert_exporter": "python",
   "pygments_lexer": "ipython3",
   "version": "3.7.0"
  }
 },
 "nbformat": 4,
 "nbformat_minor": 2
}
