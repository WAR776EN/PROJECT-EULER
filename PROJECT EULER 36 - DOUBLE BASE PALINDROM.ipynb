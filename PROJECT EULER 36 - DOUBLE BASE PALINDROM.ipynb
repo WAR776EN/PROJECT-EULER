{
 "cells": [
  {
   "cell_type": "code",
   "execution_count": 5,
   "metadata": {},
   "outputs": [],
   "source": [
    "def double_base_palin(limit):\n",
    "    x = 1\n",
    "    count = []\n",
    "    while True:\n",
    "        if str(x) == str(x)[::-1]: # cek palindrom decimal\n",
    "            bi = bin(int(x)) # cek palindrom biner\n",
    "            if bi[2:]== bi[len(bi)-1:1:-1]:\n",
    "                if int(limit) - sum(count) > x:\n",
    "                    count.append(x)\n",
    "                else:\n",
    "                    return (count)\n",
    "        x += 1"
   ]
  },
  {
   "cell_type": "code",
   "execution_count": 6,
   "metadata": {},
   "outputs": [
    {
     "data": {
      "text/plain": [
       "[1,\n",
       " 3,\n",
       " 5,\n",
       " 7,\n",
       " 9,\n",
       " 33,\n",
       " 99,\n",
       " 313,\n",
       " 585,\n",
       " 717,\n",
       " 7447,\n",
       " 9009,\n",
       " 15351,\n",
       " 32223,\n",
       " 39993,\n",
       " 53235,\n",
       " 53835,\n",
       " 73737,\n",
       " 585585]"
      ]
     },
     "execution_count": 6,
     "metadata": {},
     "output_type": "execute_result"
    }
   ],
   "source": [
    "double_base_palin(1e6)"
   ]
  },
  {
   "cell_type": "code",
   "execution_count": 22,
   "metadata": {},
   "outputs": [
    {
     "name": "stdout",
     "output_type": "stream",
     "text": [
      "ga muat bro\n"
     ]
    }
   ],
   "source": [
    "a = [5,5,5]\n",
    "b = 5\n",
    "if 20-sum(a) > b:\n",
    "    a.append(b)\n",
    "    print(a)\n",
    "else:\n",
    "    print('ga muat bro')\n",
    "    "
   ]
  },
  {
   "cell_type": "code",
   "execution_count": 23,
   "metadata": {},
   "outputs": [
    {
     "data": {
      "text/plain": [
       "12"
      ]
     },
     "execution_count": 23,
     "metadata": {},
     "output_type": "execute_result"
    }
   ],
   "source": [
    "5+7"
   ]
  },
  {
   "cell_type": "code",
   "execution_count": null,
   "metadata": {},
   "outputs": [],
   "source": []
  }
 ],
 "metadata": {
  "kernelspec": {
   "display_name": "Python 3",
   "language": "python",
   "name": "python3"
  },
  "language_info": {
   "codemirror_mode": {
    "name": "ipython",
    "version": 3
   },
   "file_extension": ".py",
   "mimetype": "text/x-python",
   "name": "python",
   "nbconvert_exporter": "python",
   "pygments_lexer": "ipython3",
   "version": "3.7.0"
  }
 },
 "nbformat": 4,
 "nbformat_minor": 2
}
