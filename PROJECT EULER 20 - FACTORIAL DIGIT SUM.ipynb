{
 "cells": [
  {
   "cell_type": "code",
   "execution_count": 18,
   "metadata": {},
   "outputs": [
    {
     "name": "stdout",
     "output_type": "stream",
     "text": [
      "Factorial Digit Sum of 100 is 648\n"
     ]
    }
   ],
   "source": [
    "def fds (x):\n",
    "    def factorial (x):\n",
    "        if x == 1:\n",
    "            return 1\n",
    "        else:\n",
    "            return (x*factorial(x-1))\n",
    "    value = str(factorial(x))\n",
    "    sumDigit = 0\n",
    "    for i in value:\n",
    "        sumDigit += int(i)\n",
    "    return sumDigit\n",
    "\n",
    "inputData = 100\n",
    "print('Factorial Digit Sum of '+ str(inputData)+' is '+str(fds(inputData)))"
   ]
  },
  {
   "cell_type": "code",
   "execution_count": null,
   "metadata": {},
   "outputs": [],
   "source": []
  }
 ],
 "metadata": {
  "kernelspec": {
   "display_name": "Python 3",
   "language": "python",
   "name": "python3"
  },
  "language_info": {
   "codemirror_mode": {
    "name": "ipython",
    "version": 3
   },
   "file_extension": ".py",
   "mimetype": "text/x-python",
   "name": "python",
   "nbconvert_exporter": "python",
   "pygments_lexer": "ipython3",
   "version": "3.7.0"
  }
 },
 "nbformat": 4,
 "nbformat_minor": 2
}
