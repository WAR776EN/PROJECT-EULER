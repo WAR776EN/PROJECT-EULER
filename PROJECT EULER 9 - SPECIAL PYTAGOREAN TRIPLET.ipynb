{
 "cells": [
  {
   "cell_type": "code",
   "execution_count": 14,
   "metadata": {},
   "outputs": [
    {
     "name": "stdout",
     "output_type": "stream",
     "text": [
      "result =  31875000.0\n"
     ]
    }
   ],
   "source": [
    "lower  = 1\n",
    "upper = 2\n",
    "triplet = []\n",
    "temp = 1\n",
    "\n",
    "while True:\n",
    "    if lower == 9 and upper == 10:\n",
    "        break\n",
    "    a = upper**2 - lower**2\n",
    "    b = 2*upper*lower\n",
    "    c = upper**2 + lower**2\n",
    "    tri = [a,b,c]\n",
    "    tri.sort()\n",
    "    triplet.append(tri)\n",
    "    if 1000%(sum(tri))==0:\n",
    "        for i in tri:\n",
    "            temp *= i*(1000/sum(tri))\n",
    "        print('result = ',str(temp))\n",
    "        break\n",
    "    if upper ==10:\n",
    "        lower += 1\n",
    "        upper = lower+1\n",
    "    else:\n",
    "        upper += 1"
   ]
  },
  {
   "cell_type": "code",
   "execution_count": null,
   "metadata": {},
   "outputs": [],
   "source": []
  }
 ],
 "metadata": {
  "kernelspec": {
   "display_name": "Python 3",
   "language": "python",
   "name": "python3"
  },
  "language_info": {
   "codemirror_mode": {
    "name": "ipython",
    "version": 3
   },
   "file_extension": ".py",
   "mimetype": "text/x-python",
   "name": "python",
   "nbconvert_exporter": "python",
   "pygments_lexer": "ipython3",
   "version": "3.7.0"
  }
 },
 "nbformat": 4,
 "nbformat_minor": 2
}
